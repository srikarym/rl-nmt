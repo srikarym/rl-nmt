{
 "cells": [
  {
   "cell_type": "code",
   "execution_count": 309,
   "metadata": {},
   "outputs": [],
   "source": [
    "import os\n",
    "os.environ['CUDA_LAUNCH_BLOCKING'] = '1'\n",
    "import gym\n",
    "import gym_nmt\n",
    "from modified_subproc import SubprocVecEnv\n",
    "from utils import VecPyTorch\n",
    "import numpy as np\n",
    "import torch\n",
    "import time\n",
    "import sys\n",
    "sys.path.insert(0,'pytorch-a2c-ppo-acktr')\n",
    "\n",
    "from a2c_ppo_acktr import algo\n",
    "from a2c_ppo_acktr.model import Policy\n",
    "from a2c_ppo_acktr.storage import RolloutStorage\n",
    "from arguments import get_args\n",
    "from utils import reshape_batch\n",
    "from tensorboardX import SummaryWriter"
   ]
  },
  {
   "cell_type": "code",
   "execution_count": 311,
   "metadata": {},
   "outputs": [
    {
     "name": "stdout",
     "output_type": "stream",
     "text": [
      "| [de] dictionary: 8848 types\n",
      "| [en] dictionary: 6632 types\n",
      "| /home/srikar/fairseq/data-bin/iwslt14.tokenized.de-en train 160239 examples\n",
      "| [de] dictionary: 8848 types\n",
      "| [en] dictionary: 6632 types\n",
      "| /home/srikar/fairseq/data-bin/iwslt14.tokenized.de-en train 160239 examples\n",
      "| WARNING: 815 samples have invalid sizes and will be skipped, max_positions=(100, 100), first few sample ids=[14594, 135416, 49364, 134155, 17369, 14206, 138681, 27086, 98339, 39032]\n",
      "| WARNING: 815 samples have invalid sizes and will be skipped, max_positions=(100, 100), first few sample ids=[14594, 135416, 49364, 134155, 17369, 14206, 138681, 27086, 98339, 39032]\n",
      "| [de] dictionary: 8848 types\n",
      "| [en] dictionary: 6632 types\n",
      "| /home/srikar/fairseq/data-bin/iwslt14.tokenized.de-en train 160239 examples\n",
      "| WARNING: 815 samples have invalid sizes and will be skipped, max_positions=(100, 100), first few sample ids=[14594, 135416, 49364, 134155, 17369, 14206, 138681, 27086, 98339, 39032]\n"
     ]
    }
   ],
   "source": [
    "def make_env(env_id, n_missing_words):\n",
    "\tdef _thunk():\n",
    "\t\tenv = gym.make(env_id)\n",
    "\t\tenv.init_words(n_missing_words)\n",
    "\n",
    "\t\treturn env\n",
    "\n",
    "\treturn _thunk\n",
    "envs = [make_env(env_id = 'nmt-v0',n_missing_words=1)\n",
    "\t\t\tfor i in range(2)]\n",
    "\n",
    "envs = SubprocVecEnv(envs)\n",
    "envs = VecPyTorch(envs,'cuda')\n"
   ]
  },
  {
   "cell_type": "code",
   "execution_count": 312,
   "metadata": {},
   "outputs": [
    {
     "data": {
      "text/plain": [
       "1"
      ]
     },
     "execution_count": 312,
     "metadata": {},
     "output_type": "execute_result"
    }
   ],
   "source": [
    "envs.dummyenv.task.source_dictionary.pad()"
   ]
  },
  {
   "cell_type": "code",
   "execution_count": 313,
   "metadata": {},
   "outputs": [
    {
     "data": {
      "text/plain": [
       "tensor([[2., 2., 2., 2., 2., 2., 2., 2., 2., 2.],\n",
       "        [2., 2., 2., 2., 2., 2., 2., 2., 2., 2.],\n",
       "        [2., 2., 2., 2., 2., 2., 2., 2., 2., 2.],\n",
       "        [2., 2., 2., 2., 2., 2., 2., 2., 2., 2.],\n",
       "        [2., 2., 2., 2., 2., 2., 2., 2., 2., 2.],\n",
       "        [2., 2., 2., 2., 2., 2., 2., 2., 2., 2.],\n",
       "        [2., 2., 2., 2., 2., 2., 2., 2., 2., 2.],\n",
       "        [2., 2., 2., 2., 2., 2., 2., 2., 2., 2.],\n",
       "        [2., 2., 2., 2., 2., 2., 2., 2., 2., 2.],\n",
       "        [2., 2., 2., 2., 2., 2., 2., 2., 2., 2.]])"
      ]
     },
     "execution_count": 313,
     "metadata": {},
     "output_type": "execute_result"
    }
   ],
   "source": [
    "torch.ones([10,10])*2"
   ]
  },
  {
   "cell_type": "code",
   "execution_count": null,
   "metadata": {},
   "outputs": [],
   "source": []
  }
 ],
 "metadata": {
  "kernelspec": {
   "display_name": "Python 3",
   "language": "python",
   "name": "python3"
  },
  "language_info": {
   "codemirror_mode": {
    "name": "ipython",
    "version": 3
   },
   "file_extension": ".py",
   "mimetype": "text/x-python",
   "name": "python",
   "nbconvert_exporter": "python",
   "pygments_lexer": "ipython3",
   "version": "3.6.7"
  }
 },
 "nbformat": 4,
 "nbformat_minor": 2
}
